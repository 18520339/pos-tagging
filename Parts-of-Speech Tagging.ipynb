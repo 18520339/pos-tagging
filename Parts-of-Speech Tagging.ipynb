{
 "cells": [
  {
   "cell_type": "code",
   "execution_count": 1,
   "metadata": {},
   "outputs": [],
   "source": [
    "from collections import defaultdict\n",
    "import numpy as np\n",
    "import pandas as pd\n",
    "import string\n",
    "import math"
   ]
  },
  {
   "cell_type": "markdown",
   "metadata": {},
   "source": [
    "# 1. Đọc dữ liệu"
   ]
  },
  {
   "cell_type": "code",
   "execution_count": 2,
   "metadata": {},
   "outputs": [],
   "source": [
    "punct = set(string.punctuation)\n",
    "noun_suffix = [\"action\", \"age\", \"ance\", \"cy\", \"dom\", \"ee\", \"ence\", \"er\", \"hood\", \"ion\", \"ism\", \"ist\", \"ity\", \"ling\", \"ment\", \"ness\", \"or\", \"ry\", \"scape\", \"ship\", \"ty\"]\n",
    "verb_suffix = [\"ate\", \"ify\", \"ise\", \"ize\"]\n",
    "adj_suffix = [\"able\", \"ese\", \"ful\", \"i\", \"ian\", \"ible\", \"ic\", \"ish\", \"ive\", \"less\", \"ly\", \"ous\"]\n",
    "adv_suffix = [\"ward\", \"wards\", \"wise\"]"
   ]
  },
  {
   "cell_type": "code",
   "execution_count": 3,
   "metadata": {},
   "outputs": [],
   "source": [
    "def assign_unknown(word):\n",
    "    if any(char.isdigit() for char in word):\n",
    "        return '--unk_digit--'\n",
    "    elif any(char in punct for char in word):\n",
    "        return '--unk_punct--'\n",
    "    elif any(char.isupper() for char in word):\n",
    "        return '--unk_upper--'\n",
    "    elif any(word.endswith(suffix) for suffix in noun_suffix):\n",
    "        return '--unk_noun--'\n",
    "    elif any(word.endswith(suffix) for suffix in verb_suffix):\n",
    "        return '--unk_verb--'\n",
    "    elif any(word.endswith(suffix) for suffix in adj_suffix):\n",
    "        return '--unk_adj--'\n",
    "    elif any(word.endswith(suffix) for suffix in adv_suffix):\n",
    "        return '--unk_adv--'\n",
    "    return '--unk--'"
   ]
  },
  {
   "cell_type": "code",
   "execution_count": 4,
   "metadata": {},
   "outputs": [],
   "source": [
    "def preprocess(vocab, path):\n",
    "    data = []\n",
    "    file = open(path).readlines()\n",
    "    \n",
    "    for index, word in enumerate(file):\n",
    "        if not word.split():\n",
    "            word = '--n--'\n",
    "            data.append(word)\n",
    "            continue\n",
    "        elif word.strip() not in vocab:\n",
    "            word = assign_unknown(word)\n",
    "            data.append(word)\n",
    "            continue\n",
    "        data.append(word.strip())\n",
    "    return data"
   ]
  },
  {
   "cell_type": "code",
   "execution_count": 5,
   "metadata": {},
   "outputs": [
    {
     "name": "stdout",
     "output_type": "stream",
     "text": [
      "Number of vocabs: 23777\n"
     ]
    },
    {
     "data": {
      "text/plain": [
       "['!', '#', '$', '%', '&']"
      ]
     },
     "execution_count": 5,
     "metadata": {},
     "output_type": "execute_result"
    }
   ],
   "source": [
    "vocab = open('vocab.txt').read().split('\\n')\n",
    "print('Number of vocabs:', len(vocab))\n",
    "vocab[0:5]"
   ]
  },
  {
   "cell_type": "code",
   "execution_count": 6,
   "metadata": {},
   "outputs": [
    {
     "name": "stdout",
     "output_type": "stream",
     "text": [
      "Number of test words: 1440\n"
     ]
    },
    {
     "data": {
      "text/plain": [
       "['The', 'economy', \"'s\", 'temperature', 'will']"
      ]
     },
     "execution_count": 6,
     "metadata": {},
     "output_type": "execute_result"
    }
   ],
   "source": [
    "test_words = preprocess(vocab, 'test.txt')\n",
    "print('Number of test words:', len(test_words))\n",
    "test_words[0:5]"
   ]
  },
  {
   "cell_type": "code",
   "execution_count": 7,
   "metadata": {},
   "outputs": [
    {
     "name": "stdout",
     "output_type": "stream",
     "text": [
      "Number of gold words: 1440\n"
     ]
    },
    {
     "data": {
      "text/plain": [
       "['The\\tDT\\n', 'economy\\tNN\\n', \"'s\\tPOS\\n\", 'temperature\\tNN\\n', 'will\\tMD\\n']"
      ]
     },
     "execution_count": 7,
     "metadata": {},
     "output_type": "execute_result"
    }
   ],
   "source": [
    "gold_corpus = open('gold.txt').readlines()\n",
    "print('Number of gold words:', len(gold_corpus))\n",
    "gold_corpus[0:5]"
   ]
  },
  {
   "cell_type": "code",
   "execution_count": 8,
   "metadata": {},
   "outputs": [
    {
     "name": "stdout",
     "output_type": "stream",
     "text": [
      "Number of train words: 989860\n"
     ]
    },
    {
     "data": {
      "text/plain": [
       "['In\\tIN\\n', 'an\\tDT\\n', 'Oct.\\tNNP\\n', '19\\tCD\\n', 'review\\tNN\\n']"
      ]
     },
     "execution_count": 8,
     "metadata": {},
     "output_type": "execute_result"
    }
   ],
   "source": [
    "train_corpus = open('train.txt').readlines()\n",
    "print('Number of train words:', len(train_corpus))\n",
    "train_corpus[0:5]"
   ]
  },
  {
   "cell_type": "markdown",
   "metadata": {},
   "source": [
    "# 2. Parts of Speech Tagging"
   ]
  },
  {
   "cell_type": "markdown",
   "metadata": {},
   "source": [
    "## Training"
   ]
  },
  {
   "cell_type": "code",
   "execution_count": 9,
   "metadata": {},
   "outputs": [],
   "source": [
    "def seperate_word_tag(word_tag, vocab): \n",
    "    if not word_tag.split():\n",
    "        word = '--n--'\n",
    "        tag = '--s--'\n",
    "        return word, tag\n",
    "    else:\n",
    "        word, tag = word_tag.split()\n",
    "        if word not in vocab: \n",
    "            word = assign_unknown(word)\n",
    "        return word, tag\n",
    "    return None "
   ]
  },
  {
   "cell_type": "code",
   "execution_count": 10,
   "metadata": {},
   "outputs": [],
   "source": [
    "def create_dictionaries(train_corpus, vocab):\n",
    "    emission_counts = defaultdict(int)\n",
    "    transition_counts = defaultdict(int)\n",
    "    tag_counts = defaultdict(int)\n",
    "    \n",
    "    prev_tag = '--s--' \n",
    "    i = 0 \n",
    "    \n",
    "    for word_tag in train_corpus:\n",
    "        i += 1\n",
    "        if i % 50000 == 0: print(f'Processed {i} words...')\n",
    "        word, tag = seperate_word_tag(word_tag, vocab) \n",
    "        \n",
    "        transition_counts[(prev_tag, tag)] += 1\n",
    "        emission_counts[(tag, word)] += 1\n",
    "        tag_counts[tag] += 1\n",
    "        prev_tag = tag\n",
    "    return emission_counts, transition_counts, tag_counts"
   ]
  },
  {
   "cell_type": "code",
   "execution_count": 11,
   "metadata": {},
   "outputs": [
    {
     "name": "stdout",
     "output_type": "stream",
     "text": [
      "Processed 50000 words...\n",
      "Processed 100000 words...\n",
      "Processed 150000 words...\n",
      "Processed 200000 words...\n",
      "Processed 250000 words...\n",
      "Processed 300000 words...\n",
      "Processed 350000 words...\n",
      "Processed 400000 words...\n",
      "Processed 450000 words...\n",
      "Processed 500000 words...\n",
      "Processed 550000 words...\n",
      "Processed 600000 words...\n",
      "Processed 650000 words...\n",
      "Processed 700000 words...\n",
      "Processed 750000 words...\n",
      "Processed 800000 words...\n",
      "Processed 850000 words...\n",
      "Processed 900000 words...\n",
      "Processed 950000 words...\n"
     ]
    }
   ],
   "source": [
    "emission_counts, transition_counts, tag_counts = create_dictionaries(train_corpus, vocab)"
   ]
  },
  {
   "cell_type": "code",
   "execution_count": 12,
   "metadata": {},
   "outputs": [
    {
     "name": "stdout",
     "output_type": "stream",
     "text": [
      "Number of POS tags (States): 46\n",
      "['#', '$', \"''\", '(', ')', ',', '--s--', '.', ':', 'CC', 'CD', 'DT', 'EX', 'FW', 'IN', 'JJ', 'JJR', 'JJS', 'LS', 'MD', 'NN', 'NNP', 'NNPS', 'NNS', 'PDT', 'POS', 'PRP', 'PRP$', 'RB', 'RBR', 'RBS', 'RP', 'SYM', 'TO', 'UH', 'VB', 'VBD', 'VBG', 'VBN', 'VBP', 'VBZ', 'WDT', 'WP', 'WP$', 'WRB', '``']\n"
     ]
    }
   ],
   "source": [
    "states = sorted(tag_counts.keys())\n",
    "print('Number of POS tags (States):', len(states))\n",
    "print(states)"
   ]
  },
  {
   "cell_type": "code",
   "execution_count": 13,
   "metadata": {},
   "outputs": [
    {
     "name": "stdout",
     "output_type": "stream",
     "text": [
      "Transition examples: \n",
      "(('--s--', 'IN'), 5050)\n",
      "(('IN', 'DT'), 32364)\n",
      "(('DT', 'NNP'), 9044)\n"
     ]
    }
   ],
   "source": [
    "print(\"Transition examples: \")\n",
    "for example in list(transition_counts.items())[:3]:\n",
    "    print(example)"
   ]
  },
  {
   "cell_type": "code",
   "execution_count": 14,
   "metadata": {},
   "outputs": [
    {
     "name": "stdout",
     "output_type": "stream",
     "text": [
      "Emission examples: \n",
      "(('DT', 'any'), 721)\n",
      "(('NN', 'decrease'), 7)\n",
      "(('NN', 'insider-trading'), 5)\n"
     ]
    }
   ],
   "source": [
    "print(\"Emission examples: \")\n",
    "for example in list(emission_counts.items())[200:203]:\n",
    "    print (example)"
   ]
  },
  {
   "cell_type": "code",
   "execution_count": 15,
   "metadata": {},
   "outputs": [
    {
     "name": "stdout",
     "output_type": "stream",
     "text": [
      "Ambiguous word example: \n",
      "('RB', 'back') 304\n",
      "('VB', 'back') 20\n",
      "('RP', 'back') 84\n",
      "('JJ', 'back') 25\n",
      "('NN', 'back') 29\n",
      "('VBP', 'back') 4\n"
     ]
    }
   ],
   "source": [
    "print(\"Ambiguous word example: \")\n",
    "for tup, cnt in emission_counts.items():\n",
    "    if tup[1] == 'back': print (tup, cnt)"
   ]
  },
  {
   "cell_type": "markdown",
   "metadata": {},
   "source": [
    "## Testing"
   ]
  },
  {
   "cell_type": "code",
   "execution_count": 16,
   "metadata": {},
   "outputs": [],
   "source": [
    "def predict_pos(test_words, gold_corpus, emission_counts, vocab, states):\n",
    "    num_correct = 0\n",
    "    all_words = set(emission_counts.keys())\n",
    "    total = len(gold_corpus)\n",
    "    \n",
    "    for word, gold_tuple in zip(test_words, gold_corpus): \n",
    "        gold_tuple_list = gold_tuple.split()\n",
    "        if len(gold_tuple_list) != 2: continue\n",
    "        else: true_label = gold_tuple_list[1]\n",
    "    \n",
    "        count_final = 0\n",
    "        pos_final = ''\n",
    "        if word not in vocab: continue\n",
    "        \n",
    "        for pos in states:\n",
    "            if (pos, word) not in emission_counts: continue\n",
    "            count = emission_counts[(pos, word)]\n",
    "            \n",
    "            if count > count_final:\n",
    "                count_final = count\n",
    "                pos_final = pos\n",
    "                    \n",
    "        if pos_final == true_label: num_correct += 1\n",
    "    accuracy = num_correct / total\n",
    "    return accuracy"
   ]
  },
  {
   "cell_type": "code",
   "execution_count": 17,
   "metadata": {},
   "outputs": [
    {
     "name": "stdout",
     "output_type": "stream",
     "text": [
      "Accuracy of prediction: 0.86875\n"
     ]
    }
   ],
   "source": [
    "accuracy = predict_pos(test_words, gold_corpus, emission_counts, vocab, states)\n",
    "print('Accuracy of prediction:', accuracy)"
   ]
  },
  {
   "cell_type": "markdown",
   "metadata": {},
   "source": [
    "# 3. Ma trận xác suất Hidden Markov"
   ]
  },
  {
   "cell_type": "markdown",
   "metadata": {},
   "source": [
    "## Ma trận chuyển tiếp 'A' (transition matrix)"
   ]
  },
  {
   "cell_type": "code",
   "execution_count": 18,
   "metadata": {},
   "outputs": [],
   "source": [
    "def create_transition_matrix(alpha, tag_counts, transition_counts):\n",
    "    all_tags = sorted(tag_counts.keys())\n",
    "    num_tags = len(all_tags)\n",
    "    \n",
    "    A = np.zeros((num_tags,num_tags))\n",
    "    trans_keys = set(transition_counts.keys())\n",
    "    \n",
    "    for i in range(num_tags):\n",
    "        for j in range(num_tags):\n",
    "            count = 0\n",
    "            key = (all_tags[i],all_tags[j])\n",
    "            if key in transition_counts: count = transition_counts[key]\n",
    "                \n",
    "            count_prev_tag = tag_counts[all_tags[i]]\n",
    "            A[i, j] = (count + alpha) / (count_prev_tag + alpha * num_tags)\n",
    "    return A"
   ]
  },
  {
   "cell_type": "code",
   "execution_count": 19,
   "metadata": {},
   "outputs": [
    {
     "data": {
      "text/html": [
       "<div>\n",
       "<style scoped>\n",
       "    .dataframe tbody tr th:only-of-type {\n",
       "        vertical-align: middle;\n",
       "    }\n",
       "\n",
       "    .dataframe tbody tr th {\n",
       "        vertical-align: top;\n",
       "    }\n",
       "\n",
       "    .dataframe thead th {\n",
       "        text-align: right;\n",
       "    }\n",
       "</style>\n",
       "<table border=\"1\" class=\"dataframe\">\n",
       "  <thead>\n",
       "    <tr style=\"text-align: right;\">\n",
       "      <th></th>\n",
       "      <th>RBS</th>\n",
       "      <th>RP</th>\n",
       "      <th>SYM</th>\n",
       "      <th>TO</th>\n",
       "      <th>UH</th>\n",
       "    </tr>\n",
       "  </thead>\n",
       "  <tbody>\n",
       "    <tr>\n",
       "      <th>RBS</th>\n",
       "      <td>2.217069e-06</td>\n",
       "      <td>2.217069e-06</td>\n",
       "      <td>2.217069e-06</td>\n",
       "      <td>0.008870</td>\n",
       "      <td>2.217069e-06</td>\n",
       "    </tr>\n",
       "    <tr>\n",
       "      <th>RP</th>\n",
       "      <td>3.756509e-07</td>\n",
       "      <td>7.516775e-04</td>\n",
       "      <td>3.756509e-07</td>\n",
       "      <td>0.051089</td>\n",
       "      <td>3.756509e-07</td>\n",
       "    </tr>\n",
       "    <tr>\n",
       "      <th>SYM</th>\n",
       "      <td>1.722772e-05</td>\n",
       "      <td>1.722772e-05</td>\n",
       "      <td>1.722772e-05</td>\n",
       "      <td>0.000017</td>\n",
       "      <td>1.722772e-05</td>\n",
       "    </tr>\n",
       "    <tr>\n",
       "      <th>TO</th>\n",
       "      <td>4.477336e-05</td>\n",
       "      <td>4.472863e-08</td>\n",
       "      <td>4.472863e-08</td>\n",
       "      <td>0.000090</td>\n",
       "      <td>4.477336e-05</td>\n",
       "    </tr>\n",
       "    <tr>\n",
       "      <th>UH</th>\n",
       "      <td>1.030439e-05</td>\n",
       "      <td>1.030439e-05</td>\n",
       "      <td>1.030439e-05</td>\n",
       "      <td>0.061837</td>\n",
       "      <td>3.092348e-02</td>\n",
       "    </tr>\n",
       "  </tbody>\n",
       "</table>\n",
       "</div>"
      ],
      "text/plain": [
       "              RBS            RP           SYM        TO            UH\n",
       "RBS  2.217069e-06  2.217069e-06  2.217069e-06  0.008870  2.217069e-06\n",
       "RP   3.756509e-07  7.516775e-04  3.756509e-07  0.051089  3.756509e-07\n",
       "SYM  1.722772e-05  1.722772e-05  1.722772e-05  0.000017  1.722772e-05\n",
       "TO   4.477336e-05  4.472863e-08  4.472863e-08  0.000090  4.477336e-05\n",
       "UH   1.030439e-05  1.030439e-05  1.030439e-05  0.061837  3.092348e-02"
      ]
     },
     "execution_count": 19,
     "metadata": {},
     "output_type": "execute_result"
    }
   ],
   "source": [
    "alpha = 0.001\n",
    "A = create_transition_matrix(alpha, tag_counts, transition_counts)\n",
    "df = pd.DataFrame(\n",
    "    A[30:35, 30:35], \n",
    "    index = states[30:35], \n",
    "    columns = states[30:35]\n",
    ")\n",
    "df.head()"
   ]
  },
  {
   "cell_type": "markdown",
   "metadata": {},
   "source": [
    "## Ma trận phát xạ 'B' (emission matrix)"
   ]
  },
  {
   "cell_type": "code",
   "execution_count": 20,
   "metadata": {},
   "outputs": [],
   "source": [
    "def create_emission_matrix(alpha, tag_counts, emission_counts, vocab):\n",
    "    all_tags = sorted(tag_counts.keys())\n",
    "    num_tags = len(tag_counts)\n",
    "    num_words = len(vocab)\n",
    "    \n",
    "    B = np.zeros((num_tags, num_words))\n",
    "    emis_keys = set(list(emission_counts.keys()))\n",
    "    \n",
    "    for i in range(num_tags):\n",
    "        for j in range(num_words):\n",
    "            count = 0\n",
    "            key = (all_tags[i],vocab[j])\n",
    "            if key in emission_counts.keys(): count = emission_counts[key]\n",
    "                \n",
    "            count_tag = tag_counts[all_tags[i]]\n",
    "            B[i, j] = (count + alpha) / (count_tag + alpha * num_words)\n",
    "    return B"
   ]
  },
  {
   "cell_type": "code",
   "execution_count": 21,
   "metadata": {},
   "outputs": [
    {
     "data": {
      "text/html": [
       "<div>\n",
       "<style scoped>\n",
       "    .dataframe tbody tr th:only-of-type {\n",
       "        vertical-align: middle;\n",
       "    }\n",
       "\n",
       "    .dataframe tbody tr th {\n",
       "        vertical-align: top;\n",
       "    }\n",
       "\n",
       "    .dataframe thead th {\n",
       "        text-align: right;\n",
       "    }\n",
       "</style>\n",
       "<table border=\"1\" class=\"dataframe\">\n",
       "  <thead>\n",
       "    <tr style=\"text-align: right;\">\n",
       "      <th></th>\n",
       "      <th>725</th>\n",
       "      <th>adroitly</th>\n",
       "      <th>engineers</th>\n",
       "      <th>promoted</th>\n",
       "      <th>synergy</th>\n",
       "    </tr>\n",
       "  </thead>\n",
       "  <tbody>\n",
       "    <tr>\n",
       "      <th>CD</th>\n",
       "      <td>8.201296e-05</td>\n",
       "      <td>2.732854e-08</td>\n",
       "      <td>2.732854e-08</td>\n",
       "      <td>2.732854e-08</td>\n",
       "      <td>2.732854e-08</td>\n",
       "    </tr>\n",
       "    <tr>\n",
       "      <th>NN</th>\n",
       "      <td>7.521128e-09</td>\n",
       "      <td>7.521128e-09</td>\n",
       "      <td>7.521128e-09</td>\n",
       "      <td>7.521128e-09</td>\n",
       "      <td>2.257091e-05</td>\n",
       "    </tr>\n",
       "    <tr>\n",
       "      <th>NNS</th>\n",
       "      <td>1.670013e-08</td>\n",
       "      <td>1.670013e-08</td>\n",
       "      <td>4.676203e-04</td>\n",
       "      <td>1.670013e-08</td>\n",
       "      <td>1.670013e-08</td>\n",
       "    </tr>\n",
       "    <tr>\n",
       "      <th>VB</th>\n",
       "      <td>3.779036e-08</td>\n",
       "      <td>3.779036e-08</td>\n",
       "      <td>3.779036e-08</td>\n",
       "      <td>3.779036e-08</td>\n",
       "      <td>3.779036e-08</td>\n",
       "    </tr>\n",
       "    <tr>\n",
       "      <th>RB</th>\n",
       "      <td>3.226454e-08</td>\n",
       "      <td>6.456135e-05</td>\n",
       "      <td>3.226454e-08</td>\n",
       "      <td>3.226454e-08</td>\n",
       "      <td>3.226454e-08</td>\n",
       "    </tr>\n",
       "  </tbody>\n",
       "</table>\n",
       "</div>"
      ],
      "text/plain": [
       "              725      adroitly     engineers      promoted       synergy\n",
       "CD   8.201296e-05  2.732854e-08  2.732854e-08  2.732854e-08  2.732854e-08\n",
       "NN   7.521128e-09  7.521128e-09  7.521128e-09  7.521128e-09  2.257091e-05\n",
       "NNS  1.670013e-08  1.670013e-08  4.676203e-04  1.670013e-08  1.670013e-08\n",
       "VB   3.779036e-08  3.779036e-08  3.779036e-08  3.779036e-08  3.779036e-08\n",
       "RB   3.226454e-08  6.456135e-05  3.226454e-08  3.226454e-08  3.226454e-08"
      ]
     },
     "execution_count": 21,
     "metadata": {},
     "output_type": "execute_result"
    }
   ],
   "source": [
    "cidx  = ['725', 'adroitly', 'engineers', 'promoted', 'synergy']\n",
    "rvals = ['CD', 'NN', 'NNS', 'VB', 'RB', 'RP']\n",
    "cols = [vocab.index(a) for a in cidx]\n",
    "rows = [states.index(a) for a in rvals]\n",
    "\n",
    "B = create_emission_matrix(alpha, tag_counts, emission_counts, list(vocab))\n",
    "df = pd.DataFrame(B[np.ix_(rows, cols)], index=rvals, columns=cidx)\n",
    "df.head()"
   ]
  },
  {
   "cell_type": "markdown",
   "metadata": {},
   "source": [
    "# 4. Thuật toán Viterbi"
   ]
  },
  {
   "cell_type": "markdown",
   "metadata": {},
   "source": [
    "## Bước Initialization"
   ]
  },
  {
   "cell_type": "code",
   "execution_count": 22,
   "metadata": {},
   "outputs": [],
   "source": [
    "def viterbi_initialize(states, tag_counts, A, B, corpus, vocab):\n",
    "    num_tags = len(tag_counts)\n",
    "    s_idx = states.index('--s--')\n",
    "    \n",
    "    best_probs = np.zeros((num_tags, len(corpus)))\n",
    "    best_paths = np.zeros((num_tags, len(corpus)), dtype=int)\n",
    "    \n",
    "    for i in range(num_tags):\n",
    "        if A[s_idx,i] == 0: best_probs[i, 0] = float('-inf')\n",
    "        else: \n",
    "            index = vocab.index(corpus[0])\n",
    "            best_probs[i, 0] = math.log(A[s_idx, i]) + math.log(B[i, index])\n",
    "    return best_probs, best_paths"
   ]
  },
  {
   "cell_type": "code",
   "execution_count": 23,
   "metadata": {},
   "outputs": [
    {
     "name": "stdout",
     "output_type": "stream",
     "text": [
      "best_probs[0, 0]: -22.60982633354825\n",
      "best_paths[2, 3]: 0\n"
     ]
    }
   ],
   "source": [
    "best_probs, best_paths = viterbi_initialize(states, tag_counts, A, B, test_words, vocab)\n",
    "print('best_probs[0, 0]:', best_probs[0, 0]) \n",
    "print('best_paths[2, 3]:', best_paths[2, 3])"
   ]
  },
  {
   "cell_type": "markdown",
   "metadata": {},
   "source": [
    "## Bước Forward"
   ]
  },
  {
   "cell_type": "code",
   "execution_count": 24,
   "metadata": {},
   "outputs": [],
   "source": [
    "def viterbi_forward(A, B, corpus, best_probs, best_paths, vocab):\n",
    "    num_tags = best_probs.shape[0]\n",
    "    \n",
    "    for i in range(1, len(corpus)): \n",
    "        if i % 5000 == 0: print(f'Processed {i} words...')\n",
    "            \n",
    "        for j in range(num_tags):\n",
    "            best_prob_i = float('-inf')\n",
    "            best_path_i = None\n",
    "            \n",
    "            for k in range(num_tags):\n",
    "                index = vocab.index(corpus[i])\n",
    "                prob = best_probs[k, i - 1] + math.log(A[k, j]) + math.log(B[j, index])\n",
    "\n",
    "                if prob > best_prob_i:\n",
    "                    best_prob_i = prob\n",
    "                    best_path_i = k\n",
    "                    \n",
    "            best_probs[j, i] = best_prob_i\n",
    "            best_paths[j, i] = best_path_i\n",
    "            \n",
    "    return best_probs, best_paths"
   ]
  },
  {
   "cell_type": "code",
   "execution_count": 25,
   "metadata": {},
   "outputs": [
    {
     "name": "stdout",
     "output_type": "stream",
     "text": [
      "best_probs[0, 1]: -24.78215632717346\n",
      "best_probs[0, 4]: -49.560126133711904\n"
     ]
    }
   ],
   "source": [
    "best_probs, best_paths = viterbi_forward(A, B, test_words, best_probs, best_paths, vocab)\n",
    "print('best_probs[0, 1]:', best_probs[0, 1]) \n",
    "print('best_probs[0, 4]:', best_probs[0, 4])"
   ]
  },
  {
   "cell_type": "markdown",
   "metadata": {},
   "source": [
    "## Bước Backward"
   ]
  },
  {
   "cell_type": "code",
   "execution_count": 26,
   "metadata": {},
   "outputs": [],
   "source": [
    "def viterbi_backward(best_probs, best_paths, corpus, states):\n",
    "    m = best_paths.shape[1] \n",
    "    z = [None] * m\n",
    "    \n",
    "    num_tags = best_probs.shape[0]\n",
    "    best_prob_for_last_word = float('-inf')\n",
    "    pred = [None] * m\n",
    "    \n",
    "    for k in range(num_tags):\n",
    "        if best_probs[k,-1] > best_prob_for_last_word:\n",
    "            best_prob_for_last_word = best_probs[k, -1]\n",
    "            z[m - 1] = k\n",
    "            \n",
    "    pred[m - 1] = states[k]\n",
    "    for i in range(len(corpus) - 1, -1, -1):\n",
    "        pos_tag = best_paths[np.argmax(best_probs[:, i]), i]\n",
    "        z[i - 1] = best_paths[pos_tag, i]\n",
    "        pred[i - 1] = states[pos_tag]\n",
    "    return pred"
   ]
  },
  {
   "cell_type": "code",
   "execution_count": 27,
   "metadata": {},
   "outputs": [
    {
     "name": "stdout",
     "output_type": "stream",
     "text": [
      "The prediction for pred[-7:1439] is:\n",
      "['trading', 'room', \"'s\", 'most', 'flamboyant', 'character']\n",
      "['NN', 'NN', 'POS', 'RBS', 'JJ', 'NN']\n",
      "The prediction for pred[0:7] is:\n",
      "['The', 'economy', \"'s\", 'temperature', 'will', 'be', 'taken']\n",
      "['DT', 'NN', 'POS', 'NN', 'MD', 'VB', 'VBN']\n"
     ]
    }
   ],
   "source": [
    "pred = viterbi_backward(best_probs, best_paths, test_words, states)\n",
    "m = len(pred)\n",
    "\n",
    "print(f'The prediction for pred[-7:{m - 1}] is:')\n",
    "print(test_words[-7:m-1])\n",
    "print(pred[-7:m-1])\n",
    "\n",
    "print('The prediction for pred[0:7] is:')\n",
    "print(test_words[0:7])\n",
    "print(pred[0:7])"
   ]
  },
  {
   "cell_type": "code",
   "execution_count": 28,
   "metadata": {},
   "outputs": [],
   "source": [
    "def predict_sentence(sentence):\n",
    "    output = ''\n",
    "    for word in sentence.split():\n",
    "        index = test_words.index(word)\n",
    "        output += f'{word}/{pred[index]} '\n",
    "    return output.strip()"
   ]
  },
  {
   "cell_type": "code",
   "execution_count": 29,
   "metadata": {
    "scrolled": false
   },
   "outputs": [
    {
     "data": {
      "text/plain": [
       "\"The/DT economy/NN 's/POS temperature/NN will/MD be/VB taken/VBN\""
      ]
     },
     "execution_count": 29,
     "metadata": {},
     "output_type": "execute_result"
    }
   ],
   "source": [
    "sentence = \"The economy 's temperature will be taken\"\n",
    "predict_sentence(sentence)"
   ]
  },
  {
   "cell_type": "markdown",
   "metadata": {},
   "source": [
    "## Đánh giá thuật toán"
   ]
  },
  {
   "cell_type": "code",
   "execution_count": 30,
   "metadata": {},
   "outputs": [],
   "source": [
    "y_pred = []\n",
    "y_true = []\n",
    "\n",
    "for prediction, word_tag in zip(pred, gold_corpus):\n",
    "    word_tag_tuple = word_tag.split()\n",
    "    if len(word_tag_tuple) != 2: continue \n",
    "\n",
    "    word, tag = word_tag_tuple\n",
    "    y_pred.append(prediction)\n",
    "    y_true.append(tag)"
   ]
  },
  {
   "cell_type": "code",
   "execution_count": 37,
   "metadata": {},
   "outputs": [
    {
     "name": "stdout",
     "output_type": "stream",
     "text": [
      "Accuracy of the Viterbi algorithm: 0.944243301955105\n",
      "              precision    recall  f1-score   support\n",
      "\n",
      "           #       1.00      0.50      0.67         2\n",
      "           $       1.00      1.00      1.00         2\n",
      "          ''       1.00      1.00      1.00         8\n",
      "           (       1.00      1.00      1.00         1\n",
      "           )       1.00      1.00      1.00         1\n",
      "           ,       1.00      1.00      1.00        74\n",
      "           .       0.98      1.00      0.99        57\n",
      "           :       1.00      1.00      1.00         8\n",
      "          CC       1.00      1.00      1.00        26\n",
      "          CD       1.00      1.00      1.00        21\n",
      "          DT       0.99      0.99      0.99       141\n",
      "          EX       1.00      1.00      1.00         1\n",
      "          IN       0.95      0.97      0.96       156\n",
      "          JJ       0.89      0.88      0.88       104\n",
      "         JJR       0.50      0.50      0.50         2\n",
      "          MD       0.91      1.00      0.95        10\n",
      "          NN       0.95      0.96      0.95       232\n",
      "         NNP       1.00      0.88      0.94        93\n",
      "         NNS       0.94      0.93      0.94        73\n",
      "         PDT       1.00      1.00      1.00         2\n",
      "         POS       1.00      0.90      0.95        20\n",
      "         PRP       0.96      1.00      0.98        24\n",
      "        PRP$       1.00      1.00      1.00        10\n",
      "          RB       0.85      0.86      0.85        65\n",
      "         RBR       0.67      0.67      0.67         3\n",
      "         RBS       1.00      1.00      1.00         2\n",
      "          RP       1.00      1.00      1.00         5\n",
      "          TO       1.00      1.00      1.00        35\n",
      "          UH       0.00      0.00      0.00         0\n",
      "          VB       0.91      0.97      0.94        40\n",
      "         VBD       0.85      0.77      0.81        22\n",
      "         VBG       0.85      0.94      0.89        18\n",
      "         VBN       0.87      0.85      0.86        40\n",
      "         VBP       0.82      0.92      0.87        25\n",
      "         VBZ       0.90      0.90      0.90        41\n",
      "         WDT       0.67      1.00      0.80         2\n",
      "          WP       1.00      1.00      1.00         2\n",
      "         WRB       1.00      1.00      1.00         5\n",
      "          ``       1.00      1.00      1.00         8\n",
      "\n",
      "    accuracy                           0.94      1381\n",
      "   macro avg       0.91      0.91      0.91      1381\n",
      "weighted avg       0.95      0.94      0.94      1381\n",
      "\n"
     ]
    }
   ],
   "source": [
    "from sklearn.metrics import accuracy_score, classification_report\n",
    "print('Accuracy of the Viterbi algorithm:', accuracy_score(y_pred, y_true))\n",
    "print(classification_report(y_pred, y_true, zero_division='warn'))"
   ]
  },
  {
   "cell_type": "markdown",
   "metadata": {},
   "source": [
    "# 5. So sánh với thư viện khác"
   ]
  },
  {
   "cell_type": "code",
   "execution_count": 32,
   "metadata": {},
   "outputs": [],
   "source": [
    "from stanfordnlp.server import CoreNLPClient\n",
    "client = CoreNLPClient(start_server=False)"
   ]
  },
  {
   "cell_type": "code",
   "execution_count": 33,
   "metadata": {},
   "outputs": [],
   "source": [
    "def predict_sentence_lib(sentence):\n",
    "    output = ''\n",
    "    for word in sentence.split():\n",
    "        ann = client.annotate(sentence, annotators=['pos'])\n",
    "        sent = ann.sentence[0]\n",
    "        token = sent.token\n",
    "        output += word + '/' + token[0].pos + ' '\n",
    "    return output.strip()"
   ]
  },
  {
   "cell_type": "code",
   "execution_count": 34,
   "metadata": {},
   "outputs": [
    {
     "data": {
      "text/plain": [
       "\"The/DT economy/DT 's/DT temperature/DT will/DT be/DT taken/DT\""
      ]
     },
     "execution_count": 34,
     "metadata": {},
     "output_type": "execute_result"
    }
   ],
   "source": [
    "sentence = \"The economy 's temperature will be taken\"\n",
    "predict_sentence_lib(sentence)"
   ]
  },
  {
   "cell_type": "code",
   "execution_count": 35,
   "metadata": {},
   "outputs": [],
   "source": [
    "y_pred_lib = []\n",
    "for word_tag in gold_corpus:\n",
    "    word_tag_tuple = word_tag.split()\n",
    "    if len(word_tag_tuple) != 2: continue \n",
    "        \n",
    "    word, tag = word_tag_tuple\n",
    "    ann = client.annotate(word, annotators=['pos'])\n",
    "    token = ann.sentence[0].token\n",
    "    y_pred_lib.append(token[0].pos)"
   ]
  },
  {
   "cell_type": "code",
   "execution_count": 38,
   "metadata": {},
   "outputs": [
    {
     "name": "stdout",
     "output_type": "stream",
     "text": [
      "Accuracy of the Viterbi algorithm: 0.8783490224475018\n",
      "              precision    recall  f1-score   support\n",
      "\n",
      "           #       0.00      0.00      0.00         0\n",
      "           $       1.00      1.00      1.00         2\n",
      "          ''       1.00      0.80      0.89        10\n",
      "           (       0.00      0.00      0.00         0\n",
      "           )       0.00      0.00      0.00         0\n",
      "           ,       1.00      1.00      1.00        74\n",
      "       -LRB-       0.00      0.00      0.00         1\n",
      "       -RRB-       0.00      0.00      0.00         1\n",
      "           .       1.00      1.00      1.00        58\n",
      "           :       0.88      1.00      0.93         7\n",
      "          CC       1.00      1.00      1.00        26\n",
      "          CD       1.00      0.84      0.91        25\n",
      "          DT       1.00      0.93      0.97       151\n",
      "          EX       0.00      0.00      0.00         0\n",
      "          IN       0.78      1.00      0.87       124\n",
      "          JJ       0.77      0.84      0.81        94\n",
      "         JJR       0.50      1.00      0.67         1\n",
      "         JJS       0.00      0.00      0.00         2\n",
      "          MD       0.91      1.00      0.95        10\n",
      "         NFP       0.00      0.00      0.00         1\n",
      "          NN       0.96      0.86      0.91       260\n",
      "         NNP       0.87      0.97      0.92        73\n",
      "         NNS       1.00      0.95      0.97        76\n",
      "         PDT       0.00      0.00      0.00         0\n",
      "         POS       0.89      0.84      0.86        19\n",
      "         PRP       0.96      1.00      0.98        24\n",
      "        PRP$       1.00      1.00      1.00        10\n",
      "          RB       0.91      0.54      0.68       111\n",
      "         RBR       1.00      0.75      0.86         4\n",
      "         RBS       0.00      0.00      0.00         0\n",
      "          RP       0.00      0.00      0.00         0\n",
      "          TO       1.00      1.00      1.00        35\n",
      "          UH       1.00      0.11      0.20         9\n",
      "          VB       0.58      0.69      0.63        36\n",
      "         VBD       0.75      0.94      0.83        16\n",
      "         VBG       0.65      0.93      0.76        14\n",
      "         VBN       0.74      0.81      0.77        36\n",
      "         VBP       0.43      0.63      0.51        19\n",
      "         VBZ       0.85      1.00      0.92        35\n",
      "         WDT       0.67      1.00      0.80         2\n",
      "          WP       1.00      1.00      1.00         2\n",
      "         WRB       1.00      1.00      1.00         5\n",
      "          ``       1.00      1.00      1.00         8\n",
      "\n",
      "    accuracy                           0.88      1381\n",
      "   macro avg       0.65      0.66      0.64      1381\n",
      "weighted avg       0.90      0.88      0.88      1381\n",
      "\n"
     ]
    }
   ],
   "source": [
    "print('Accuracy of the Viterbi algorithm:', accuracy_score(y_pred_lib, y_true))\n",
    "print(classification_report(y_pred_lib, y_true, zero_division='warn'))"
   ]
  },
  {
   "cell_type": "code",
   "execution_count": null,
   "metadata": {},
   "outputs": [],
   "source": []
  }
 ],
 "metadata": {
  "kernelspec": {
   "display_name": "Python 3",
   "language": "python",
   "name": "python3"
  },
  "language_info": {
   "codemirror_mode": {
    "name": "ipython",
    "version": 3
   },
   "file_extension": ".py",
   "mimetype": "text/x-python",
   "name": "python",
   "nbconvert_exporter": "python",
   "pygments_lexer": "ipython3",
   "version": "3.7.9"
  }
 },
 "nbformat": 4,
 "nbformat_minor": 4
}
